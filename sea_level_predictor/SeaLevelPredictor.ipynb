{
 "cells": [
  {
   "cell_type": "code",
   "execution_count": 1,
   "id": "942b3319",
   "metadata": {},
   "outputs": [],
   "source": [
    "#First, we import the needed modules for our code\n",
    "import pandas as pd\n",
    "import numpy as np\n",
    "import matplotlib.pyplot as plt\n",
    "from scipy.stats import linregress"
   ]
  },
  {
   "cell_type": "code",
   "execution_count": 2,
   "id": "307cf53f",
   "metadata": {},
   "outputs": [
    {
     "data": {
      "text/html": [
       "<div>\n",
       "<style scoped>\n",
       "    .dataframe tbody tr th:only-of-type {\n",
       "        vertical-align: middle;\n",
       "    }\n",
       "\n",
       "    .dataframe tbody tr th {\n",
       "        vertical-align: top;\n",
       "    }\n",
       "\n",
       "    .dataframe thead th {\n",
       "        text-align: right;\n",
       "    }\n",
       "</style>\n",
       "<table border=\"1\" class=\"dataframe\">\n",
       "  <thead>\n",
       "    <tr style=\"text-align: right;\">\n",
       "      <th></th>\n",
       "      <th>Year</th>\n",
       "      <th>CSIRO Adjusted Sea Level</th>\n",
       "      <th>Lower Error Bound</th>\n",
       "      <th>Upper Error Bound</th>\n",
       "      <th>NOAA Adjusted Sea Level</th>\n",
       "    </tr>\n",
       "  </thead>\n",
       "  <tbody>\n",
       "    <tr>\n",
       "      <th>0</th>\n",
       "      <td>1880</td>\n",
       "      <td>0.000000</td>\n",
       "      <td>-0.952756</td>\n",
       "      <td>0.952756</td>\n",
       "      <td>NaN</td>\n",
       "    </tr>\n",
       "    <tr>\n",
       "      <th>1</th>\n",
       "      <td>1881</td>\n",
       "      <td>0.220472</td>\n",
       "      <td>-0.732283</td>\n",
       "      <td>1.173228</td>\n",
       "      <td>NaN</td>\n",
       "    </tr>\n",
       "    <tr>\n",
       "      <th>2</th>\n",
       "      <td>1882</td>\n",
       "      <td>-0.440945</td>\n",
       "      <td>-1.346457</td>\n",
       "      <td>0.464567</td>\n",
       "      <td>NaN</td>\n",
       "    </tr>\n",
       "    <tr>\n",
       "      <th>3</th>\n",
       "      <td>1883</td>\n",
       "      <td>-0.232283</td>\n",
       "      <td>-1.129921</td>\n",
       "      <td>0.665354</td>\n",
       "      <td>NaN</td>\n",
       "    </tr>\n",
       "    <tr>\n",
       "      <th>4</th>\n",
       "      <td>1884</td>\n",
       "      <td>0.590551</td>\n",
       "      <td>-0.283465</td>\n",
       "      <td>1.464567</td>\n",
       "      <td>NaN</td>\n",
       "    </tr>\n",
       "    <tr>\n",
       "      <th>...</th>\n",
       "      <td>...</td>\n",
       "      <td>...</td>\n",
       "      <td>...</td>\n",
       "      <td>...</td>\n",
       "      <td>...</td>\n",
       "    </tr>\n",
       "    <tr>\n",
       "      <th>129</th>\n",
       "      <td>2009</td>\n",
       "      <td>8.586614</td>\n",
       "      <td>8.311024</td>\n",
       "      <td>8.862205</td>\n",
       "      <td>8.046354</td>\n",
       "    </tr>\n",
       "    <tr>\n",
       "      <th>130</th>\n",
       "      <td>2010</td>\n",
       "      <td>8.901575</td>\n",
       "      <td>8.618110</td>\n",
       "      <td>9.185039</td>\n",
       "      <td>8.122973</td>\n",
       "    </tr>\n",
       "    <tr>\n",
       "      <th>131</th>\n",
       "      <td>2011</td>\n",
       "      <td>8.964567</td>\n",
       "      <td>8.661417</td>\n",
       "      <td>9.267717</td>\n",
       "      <td>8.053065</td>\n",
       "    </tr>\n",
       "    <tr>\n",
       "      <th>132</th>\n",
       "      <td>2012</td>\n",
       "      <td>9.326772</td>\n",
       "      <td>8.992126</td>\n",
       "      <td>9.661417</td>\n",
       "      <td>8.457058</td>\n",
       "    </tr>\n",
       "    <tr>\n",
       "      <th>133</th>\n",
       "      <td>2013</td>\n",
       "      <td>8.980315</td>\n",
       "      <td>8.622047</td>\n",
       "      <td>9.338583</td>\n",
       "      <td>8.546648</td>\n",
       "    </tr>\n",
       "  </tbody>\n",
       "</table>\n",
       "<p>134 rows × 5 columns</p>\n",
       "</div>"
      ],
      "text/plain": [
       "     Year  CSIRO Adjusted Sea Level  Lower Error Bound  Upper Error Bound  \\\n",
       "0    1880                  0.000000          -0.952756           0.952756   \n",
       "1    1881                  0.220472          -0.732283           1.173228   \n",
       "2    1882                 -0.440945          -1.346457           0.464567   \n",
       "3    1883                 -0.232283          -1.129921           0.665354   \n",
       "4    1884                  0.590551          -0.283465           1.464567   \n",
       "..    ...                       ...                ...                ...   \n",
       "129  2009                  8.586614           8.311024           8.862205   \n",
       "130  2010                  8.901575           8.618110           9.185039   \n",
       "131  2011                  8.964567           8.661417           9.267717   \n",
       "132  2012                  9.326772           8.992126           9.661417   \n",
       "133  2013                  8.980315           8.622047           9.338583   \n",
       "\n",
       "     NOAA Adjusted Sea Level  \n",
       "0                        NaN  \n",
       "1                        NaN  \n",
       "2                        NaN  \n",
       "3                        NaN  \n",
       "4                        NaN  \n",
       "..                       ...  \n",
       "129                 8.046354  \n",
       "130                 8.122973  \n",
       "131                 8.053065  \n",
       "132                 8.457058  \n",
       "133                 8.546648  \n",
       "\n",
       "[134 rows x 5 columns]"
      ]
     },
     "execution_count": 2,
     "metadata": {},
     "output_type": "execute_result"
    }
   ],
   "source": [
    "#Read data from the csv file\n",
    "df = pd.read_csv('epa-sea-level.csv')\n",
    "df"
   ]
  },
  {
   "cell_type": "code",
   "execution_count": 3,
   "id": "41e54faa",
   "metadata": {},
   "outputs": [],
   "source": [
    "#organize the needed data\n",
    "x = df['Year']\n",
    "y = df['CSIRO Adjusted Sea Level']"
   ]
  },
  {
   "cell_type": "code",
   "execution_count": 4,
   "id": "e7a96efc",
   "metadata": {},
   "outputs": [
    {
     "data": {
      "text/plain": [
       "<matplotlib.collections.PathCollection at 0x1f1d65a4cd0>"
      ]
     },
     "execution_count": 4,
     "metadata": {},
     "output_type": "execute_result"
    },
    {
     "data": {
      "image/png": "[encoded data removed]",
      "text/plain": [
       "<Figure size 1080x432 with 1 Axes>"
      ]
     },
     "metadata": {
      "needs_background": "light"
     },
     "output_type": "display_data"
    }
   ],
   "source": [
    "#Create Scatter plot\n",
    "fig = plt.subplots(figsize=(15,6))\n",
    "plt.scatter(x, y, c= 'black', s = 10)"
   ]
  },
  {
   "cell_type": "code",
   "execution_count": 5,
   "id": "37bfb152",
   "metadata": {},
   "outputs": [
    {
     "data": {
      "text/plain": [
       "0.06304458401213482"
      ]
     },
     "execution_count": 5,
     "metadata": {},
     "output_type": "execute_result"
    }
   ],
   "source": [
    "#Create the firstline of best fit\n",
    "slope, intercept, r_value, p_value, std_err = linregress(x, y)\n",
    "slope"
   ]
  },
  {
   "cell_type": "code",
   "execution_count": 6,
   "id": "52ac72b1",
   "metadata": {},
   "outputs": [
    {
     "data": {
      "text/plain": [
       "array([1880, 1881, 1882, 1883, 1884, 1885, 1886, 1887, 1888, 1889, 1890,\n",
       "       1891, 1892, 1893, 1894, 1895, 1896, 1897, 1898, 1899, 1900, 1901,\n",
       "       1902, 1903, 1904, 1905, 1906, 1907, 1908, 1909, 1910, 1911, 1912,\n",
       "       1913, 1914, 1915, 1916, 1917, 1918, 1919, 1920, 1921, 1922, 1923,\n",
       "       1924, 1925, 1926, 1927, 1928, 1929, 1930, 1931, 1932, 1933, 1934,\n",
       "       1935, 1936, 1937, 1938, 1939, 1940, 1941, 1942, 1943, 1944, 1945,\n",
       "       1946, 1947, 1948, 1949, 1950, 1951, 1952, 1953, 1954, 1955, 1956,\n",
       "       1957, 1958, 1959, 1960, 1961, 1962, 1963, 1964, 1965, 1966, 1967,\n",
       "       1968, 1969, 1970, 1971, 1972, 1973, 1974, 1975, 1976, 1977, 1978,\n",
       "       1979, 1980, 1981, 1982, 1983, 1984, 1985, 1986, 1987, 1988, 1989,\n",
       "       1990, 1991, 1992, 1993, 1994, 1995, 1996, 1997, 1998, 1999, 2000,\n",
       "       2001, 2002, 2003, 2004, 2005, 2006, 2007, 2008, 2009, 2010, 2011,\n",
       "       2012, 2013, 2014, 2015, 2016, 2017, 2018, 2019, 2020, 2021, 2022,\n",
       "       2023, 2024, 2025, 2026, 2027, 2028, 2029, 2030, 2031, 2032, 2033,\n",
       "       2034, 2035, 2036, 2037, 2038, 2039, 2040, 2041, 2042, 2043, 2044,\n",
       "       2045, 2046, 2047, 2048, 2049, 2050])"
      ]
     },
     "execution_count": 6,
     "metadata": {},
     "output_type": "execute_result"
    }
   ],
   "source": [
    "years = np.arange(1880, 2051, 1)\n",
    "years"
   ]
  },
  {
   "cell_type": "code",
   "execution_count": 7,
   "id": "e31eb87a",
   "metadata": {},
   "outputs": [
    {
     "data": {
      "text/plain": [
       "[-0.5421240249263661,\n",
       " -0.4790794409142336,\n",
       " -0.41603485690210107,\n",
       " -0.35299027288996854,\n",
       " -0.2899456888778218,\n",
       " -0.22690110486568926,\n",
       " -0.16385652085355673,\n",
       " -0.1008119368414242,\n",
       " -0.03776735282929167,\n",
       " 0.025277231182840865,\n",
       " 0.08832181519498761,\n",
       " 0.15136639920712014,\n",
       " 0.21441098321925267,\n",
       " 0.2774555672313852,\n",
       " 0.34050015124351773,\n",
       " 0.40354473525565027,\n",
       " 0.466589319267797,\n",
       " 0.5296339032799295,\n",
       " 0.5926784872920621,\n",
       " 0.6557230713041946,\n",
       " 0.7187676553163271,\n",
       " 0.7818122393284597,\n",
       " 0.8448568233405922,\n",
       " 0.9079014073527389,\n",
       " 0.9709459913648715,\n",
       " 1.033990575377004,\n",
       " 1.0970351593891365,\n",
       " 1.160079743401269,\n",
       " 1.2231243274134016,\n",
       " 1.2861689114255483,\n",
       " 1.3492134954376809,\n",
       " 1.4122580794498134,\n",
       " 1.475302663461946,\n",
       " 1.5383472474740785,\n",
       " 1.601391831486211,\n",
       " 1.6644364154983577,\n",
       " 1.7274809995104903,\n",
       " 1.7905255835226228,\n",
       " 1.8535701675347553,\n",
       " 1.9166147515468879,\n",
       " 1.9796593355590204,\n",
       " 2.042703919571167,\n",
       " 2.1057485035832997,\n",
       " 2.168793087595432,\n",
       " 2.2318376716075647,\n",
       " 2.2948822556196973,\n",
       " 2.35792683963183,\n",
       " 2.4209714236439766,\n",
       " 2.484016007656109,\n",
       " 2.5470605916682416,\n",
       " 2.610105175680374,\n",
       " 2.6731497596925067,\n",
       " 2.736194343704639,\n",
       " 2.7992389277167717,\n",
       " 2.8622835117289185,\n",
       " 2.925328095741051,\n",
       " 2.9883726797531835,\n",
       " 3.051417263765316,\n",
       " 3.1144618477774486,\n",
       " 3.177506431789581,\n",
       " 3.240551015801728,\n",
       " 3.3035955998138604,\n",
       " 3.366640183825993,\n",
       " 3.4296847678381255,\n",
       " 3.492729351850258,\n",
       " 3.5557739358623905,\n",
       " 3.6188185198745373,\n",
       " 3.68186310388667,\n",
       " 3.7449076878988024,\n",
       " 3.807952271910935,\n",
       " 3.8709968559230674,\n",
       " 3.9340414399352,\n",
       " 3.9970860239473467,\n",
       " 4.060130607959479,\n",
       " 4.123175191971612,\n",
       " 4.186219775983744,\n",
       " 4.249264359995877,\n",
       " 4.312308944008009,\n",
       " 4.375353528020142,\n",
       " 4.438398112032289,\n",
       " 4.501442696044421,\n",
       " 4.564487280056554,\n",
       " 4.627531864068686,\n",
       " 4.690576448080819,\n",
       " 4.753621032092951,\n",
       " 4.816665616105098,\n",
       " 4.879710200117231,\n",
       " 4.942754784129363,\n",
       " 5.005799368141496,\n",
       " 5.068843952153628,\n",
       " 5.131888536165761,\n",
       " 5.194933120177907,\n",
       " 5.25797770419004,\n",
       " 5.3210222882021725,\n",
       " 5.384066872214305,\n",
       " 5.4471114562264376,\n",
       " 5.51015604023857,\n",
       " 5.573200624250717,\n",
       " 5.636245208262849,\n",
       " 5.699289792274982,\n",
       " 5.762334376287114,\n",
       " 5.825378960299247,\n",
       " 5.8884235443113795,\n",
       " 5.951468128323526,\n",
       " 6.014512712335659,\n",
       " 6.077557296347791,\n",
       " 6.140601880359924,\n",
       " 6.203646464372056,\n",
       " 6.266691048384189,\n",
       " 6.329735632396321,\n",
       " 6.392780216408468,\n",
       " 6.455824800420601,\n",
       " 6.518869384432733,\n",
       " 6.581913968444866,\n",
       " 6.644958552456998,\n",
       " 6.708003136469131,\n",
       " 6.771047720481278,\n",
       " 6.83409230449341,\n",
       " 6.897136888505543,\n",
       " 6.960181472517675,\n",
       " 7.023226056529808,\n",
       " 7.08627064054194,\n",
       " 7.149315224554087,\n",
       " 7.2123598085662195,\n",
       " 7.275404392578352,\n",
       " 7.338448976590485,\n",
       " 7.401493560602617,\n",
       " 7.46453814461475,\n",
       " 7.527582728626896,\n",
       " 7.590627312639029,\n",
       " 7.653671896651161,\n",
       " 7.716716480663294,\n",
       " 7.7797610646754265,\n",
       " 7.842805648687559,\n",
       " 7.905850232699706,\n",
       " 7.968894816711838,\n",
       " 8.03193940072397,\n",
       " 8.094983984736103,\n",
       " 8.158028568748236,\n",
       " 8.221073152760368,\n",
       " 8.284117736772501,\n",
       " 8.347162320784648,\n",
       " 8.41020690479678,\n",
       " 8.473251488808913,\n",
       " 8.536296072821045,\n",
       " 8.599340656833178,\n",
       " 8.66238524084531,\n",
       " 8.725429824857457,\n",
       " 8.78847440886959,\n",
       " 8.851518992881722,\n",
       " 8.914563576893855,\n",
       " 8.977608160905987,\n",
       " 9.040652744918134,\n",
       " 9.103697328930252,\n",
       " 9.166741912942399,\n",
       " 9.229786496954517,\n",
       " 9.292831080966664,\n",
       " 9.35587566497881,\n",
       " 9.41892024899093,\n",
       " 9.481964833003076,\n",
       " 9.545009417015194,\n",
       " 9.608054001027341,\n",
       " 9.671098585039488,\n",
       " 9.734143169051606,\n",
       " 9.797187753063753,\n",
       " 9.860232337075871,\n",
       " 9.923276921088018,\n",
       " 9.986321505100136,\n",
       " 10.049366089112283,\n",
       " 10.11241067312443,\n",
       " 10.175455257136548]"
      ]
     },
     "execution_count": 7,
     "metadata": {},
     "output_type": "execute_result"
    }
   ],
   "source": [
    "line = [slope*xi + intercept for xi in years]\n",
    "line"
   ]
  },
  {
   "cell_type": "code",
   "execution_count": 8,
   "id": "01edc44e",
   "metadata": {},
   "outputs": [
    {
     "data": {
      "text/plain": [
       "<matplotlib.legend.Legend at 0x1f1d67b8fa0>"
      ]
     },
     "execution_count": 8,
     "metadata": {},
     "output_type": "execute_result"
    },
    {
     "data": {
      "image/png": "[encoded data removed]",
      "text/plain": [
       "<Figure size 432x288 with 1 Axes>"
      ]
     },
     "metadata": {
      "needs_background": "light"
     },
     "output_type": "display_data"
    }
   ],
   "source": [
    "plt.plot(years, line, color = 'black', label=\"Fitting Line\")\n",
    "plt.scatter(x, y, marker = 'x', label=\"Sample Point\", color = 'red')\n",
    "plt.legend()"
   ]
  },
  {
   "cell_type": "code",
   "execution_count": 9,
   "id": "c8b51d72",
   "metadata": {},
   "outputs": [],
   "source": [
    "#Set data for the second line\n",
    "df2 = df[df['Year'] >= 2000]"
   ]
  },
  {
   "cell_type": "code",
   "execution_count": 10,
   "id": "c984a019",
   "metadata": {},
   "outputs": [
    {
     "data": {
      "text/html": [
       "<div>\n",
       "<style scoped>\n",
       "    .dataframe tbody tr th:only-of-type {\n",
       "        vertical-align: middle;\n",
       "    }\n",
       "\n",
       "    .dataframe tbody tr th {\n",
       "        vertical-align: top;\n",
       "    }\n",
       "\n",
       "    .dataframe thead th {\n",
       "        text-align: right;\n",
       "    }\n",
       "</style>\n",
       "<table border=\"1\" class=\"dataframe\">\n",
       "  <thead>\n",
       "    <tr style=\"text-align: right;\">\n",
       "      <th></th>\n",
       "      <th>Year</th>\n",
       "      <th>CSIRO Adjusted Sea Level</th>\n",
       "      <th>Lower Error Bound</th>\n",
       "      <th>Upper Error Bound</th>\n",
       "      <th>NOAA Adjusted Sea Level</th>\n",
       "    </tr>\n",
       "  </thead>\n",
       "  <tbody>\n",
       "    <tr>\n",
       "      <th>120</th>\n",
       "      <td>2000</td>\n",
       "      <td>7.062992</td>\n",
       "      <td>6.791339</td>\n",
       "      <td>7.334646</td>\n",
       "      <td>6.920582</td>\n",
       "    </tr>\n",
       "    <tr>\n",
       "      <th>121</th>\n",
       "      <td>2001</td>\n",
       "      <td>7.287402</td>\n",
       "      <td>7.019685</td>\n",
       "      <td>7.555118</td>\n",
       "      <td>7.087460</td>\n",
       "    </tr>\n",
       "    <tr>\n",
       "      <th>122</th>\n",
       "      <td>2002</td>\n",
       "      <td>7.381890</td>\n",
       "      <td>7.110236</td>\n",
       "      <td>7.653543</td>\n",
       "      <td>7.319698</td>\n",
       "    </tr>\n",
       "    <tr>\n",
       "      <th>123</th>\n",
       "      <td>2003</td>\n",
       "      <td>7.759843</td>\n",
       "      <td>7.484252</td>\n",
       "      <td>8.035433</td>\n",
       "      <td>7.488353</td>\n",
       "    </tr>\n",
       "    <tr>\n",
       "      <th>124</th>\n",
       "      <td>2004</td>\n",
       "      <td>7.740157</td>\n",
       "      <td>7.464567</td>\n",
       "      <td>8.015748</td>\n",
       "      <td>7.507933</td>\n",
       "    </tr>\n",
       "    <tr>\n",
       "      <th>125</th>\n",
       "      <td>2005</td>\n",
       "      <td>7.744094</td>\n",
       "      <td>7.472441</td>\n",
       "      <td>8.015748</td>\n",
       "      <td>7.644563</td>\n",
       "    </tr>\n",
       "    <tr>\n",
       "      <th>126</th>\n",
       "      <td>2006</td>\n",
       "      <td>7.917323</td>\n",
       "      <td>7.645669</td>\n",
       "      <td>8.188976</td>\n",
       "      <td>7.697420</td>\n",
       "    </tr>\n",
       "    <tr>\n",
       "      <th>127</th>\n",
       "      <td>2007</td>\n",
       "      <td>7.996063</td>\n",
       "      <td>7.712598</td>\n",
       "      <td>8.279528</td>\n",
       "      <td>7.702147</td>\n",
       "    </tr>\n",
       "    <tr>\n",
       "      <th>128</th>\n",
       "      <td>2008</td>\n",
       "      <td>8.350394</td>\n",
       "      <td>8.078740</td>\n",
       "      <td>8.622047</td>\n",
       "      <td>7.907365</td>\n",
       "    </tr>\n",
       "    <tr>\n",
       "      <th>129</th>\n",
       "      <td>2009</td>\n",
       "      <td>8.586614</td>\n",
       "      <td>8.311024</td>\n",
       "      <td>8.862205</td>\n",
       "      <td>8.046354</td>\n",
       "    </tr>\n",
       "    <tr>\n",
       "      <th>130</th>\n",
       "      <td>2010</td>\n",
       "      <td>8.901575</td>\n",
       "      <td>8.618110</td>\n",
       "      <td>9.185039</td>\n",
       "      <td>8.122973</td>\n",
       "    </tr>\n",
       "    <tr>\n",
       "      <th>131</th>\n",
       "      <td>2011</td>\n",
       "      <td>8.964567</td>\n",
       "      <td>8.661417</td>\n",
       "      <td>9.267717</td>\n",
       "      <td>8.053065</td>\n",
       "    </tr>\n",
       "    <tr>\n",
       "      <th>132</th>\n",
       "      <td>2012</td>\n",
       "      <td>9.326772</td>\n",
       "      <td>8.992126</td>\n",
       "      <td>9.661417</td>\n",
       "      <td>8.457058</td>\n",
       "    </tr>\n",
       "    <tr>\n",
       "      <th>133</th>\n",
       "      <td>2013</td>\n",
       "      <td>8.980315</td>\n",
       "      <td>8.622047</td>\n",
       "      <td>9.338583</td>\n",
       "      <td>8.546648</td>\n",
       "    </tr>\n",
       "  </tbody>\n",
       "</table>\n",
       "</div>"
      ],
      "text/plain": [
       "     Year  CSIRO Adjusted Sea Level  Lower Error Bound  Upper Error Bound  \\\n",
       "120  2000                  7.062992           6.791339           7.334646   \n",
       "121  2001                  7.287402           7.019685           7.555118   \n",
       "122  2002                  7.381890           7.110236           7.653543   \n",
       "123  2003                  7.759843           7.484252           8.035433   \n",
       "124  2004                  7.740157           7.464567           8.015748   \n",
       "125  2005                  7.744094           7.472441           8.015748   \n",
       "126  2006                  7.917323           7.645669           8.188976   \n",
       "127  2007                  7.996063           7.712598           8.279528   \n",
       "128  2008                  8.350394           8.078740           8.622047   \n",
       "129  2009                  8.586614           8.311024           8.862205   \n",
       "130  2010                  8.901575           8.618110           9.185039   \n",
       "131  2011                  8.964567           8.661417           9.267717   \n",
       "132  2012                  9.326772           8.992126           9.661417   \n",
       "133  2013                  8.980315           8.622047           9.338583   \n",
       "\n",
       "     NOAA Adjusted Sea Level  \n",
       "120                 6.920582  \n",
       "121                 7.087460  \n",
       "122                 7.319698  \n",
       "123                 7.488353  \n",
       "124                 7.507933  \n",
       "125                 7.644563  \n",
       "126                 7.697420  \n",
       "127                 7.702147  \n",
       "128                 7.907365  \n",
       "129                 8.046354  \n",
       "130                 8.122973  \n",
       "131                 8.053065  \n",
       "132                 8.457058  \n",
       "133                 8.546648  "
      ]
     },
     "execution_count": 10,
     "metadata": {},
     "output_type": "execute_result"
    }
   ],
   "source": [
    "df2"
   ]
  },
  {
   "cell_type": "code",
   "execution_count": 11,
   "id": "97d93d2e",
   "metadata": {},
   "outputs": [],
   "source": [
    "#organize the needed data for second line\n",
    "x2 = df2['Year']\n",
    "y2 = df2['CSIRO Adjusted Sea Level']"
   ]
  },
  {
   "cell_type": "code",
   "execution_count": 12,
   "id": "9f68db16",
   "metadata": {},
   "outputs": [],
   "source": [
    "#Create the second line of best fit\n",
    "slope2, intercept2, r_value2, p_value2, std_err2 = linregress(x2, y2)"
   ]
  },
  {
   "cell_type": "code",
   "execution_count": 13,
   "id": "0d41aaf1",
   "metadata": {},
   "outputs": [
    {
     "data": {
      "text/plain": [
       "0.16642727333186816"
      ]
     },
     "execution_count": 13,
     "metadata": {},
     "output_type": "execute_result"
    }
   ],
   "source": [
    "slope2"
   ]
  },
  {
   "cell_type": "code",
   "execution_count": 14,
   "id": "3746b943",
   "metadata": {},
   "outputs": [],
   "source": [
    "years2 = np.arange(2000, 2051, 1)"
   ]
  },
  {
   "cell_type": "code",
   "execution_count": 15,
   "id": "acc55b56",
   "metadata": {},
   "outputs": [],
   "source": [
    "line2 = [slope2*xi + intercept2 for xi in years2]"
   ]
  },
  {
   "cell_type": "code",
   "execution_count": 16,
   "id": "e2014df4",
   "metadata": {},
   "outputs": [
    {
     "data": {
      "image/png": "[encoded data removed]",
      "text/plain": [
       "<Figure size 432x288 with 1 Axes>"
      ]
     },
     "metadata": {
      "needs_background": "light"
     },
     "output_type": "display_data"
    }
   ],
   "source": [
    "plt.plot(years2, line2, color = 'black', label=\"Fitting Line\")\n",
    "plt.scatter(x2, y2, marker = 'x', label=\"Sample Point\", color = 'red')\n",
    "plt.title('Rise in Sea Level', c='maroon', fontsize= 15)\n",
    "plt.xlabel('Year', c='r', fontsize = 10)\n",
    "plt.ylabel('Sea Level (inches)', c='r', fontsize = 10)\n",
    "plt.legend()\n",
    "plt.show()"
   ]
  }
 ],
 "metadata": {
  "kernelspec": {
   "display_name": "Python 3 (ipykernel)",
   "language": "python",
   "name": "python3"
  },
  "language_info": {
   "codemirror_mode": {
    "name": "ipython",
    "version": 3
   },
   "file_extension": ".py",
   "mimetype": "text/x-python",
   "name": "python",
   "nbconvert_exporter": "python",
   "pygments_lexer": "ipython3",
   "version": "3.9.7"
  }
 },
 "nbformat": 4,
 "nbformat_minor": 5
}
